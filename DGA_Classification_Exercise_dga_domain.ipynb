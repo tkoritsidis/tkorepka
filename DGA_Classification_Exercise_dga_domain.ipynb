{
  "nbformat": 4,
  "nbformat_minor": 0,
  "metadata": {
    "colab": {
      "name": "Untitled7.ipynb",
      "provenance": [],
      "include_colab_link": true
    },
    "kernelspec": {
      "name": "python3",
      "display_name": "Python 3"
    },
    "widgets": {
      "application/vnd.jupyter.widget-state+json": {
        "c5ec3bd9a5e040258c142d80cd072fdc": {
          "model_module": "@jupyter-widgets/controls",
          "model_name": "VBoxModel",
          "model_module_version": "1.5.0",
          "state": {
            "_dom_classes": [
              "widget-interact"
            ],
            "_model_module": "@jupyter-widgets/controls",
            "_model_module_version": "1.5.0",
            "_model_name": "VBoxModel",
            "_view_count": null,
            "_view_module": "@jupyter-widgets/controls",
            "_view_module_version": "1.5.0",
            "_view_name": "VBoxView",
            "box_style": "",
            "children": [
              "IPY_MODEL_fe29cbec14824cc4a0c054b9ccb1b6b9",
              "IPY_MODEL_10a9ae81b21644f78c9d01c2add716a4"
            ],
            "layout": "IPY_MODEL_eec3eda1dc124245b8007e0d7a13780e"
          }
        },
        "fe29cbec14824cc4a0c054b9ccb1b6b9": {
          "model_module": "@jupyter-widgets/controls",
          "model_name": "ToggleButtonsModel",
          "model_module_version": "1.5.0",
          "state": {
            "_dom_classes": [],
            "_model_module": "@jupyter-widgets/controls",
            "_model_module_version": "1.5.0",
            "_model_name": "ToggleButtonsModel",
            "_options_labels": [
              "Pipeline Plot",
              "Hyperparameters",
              "AUC",
              "Confusion Matrix",
              "Threshold",
              "Precision Recall",
              "Prediction Error",
              "Class Report",
              "Feature Selection",
              "Learning Curve",
              "Manifold Learning",
              "Calibration Curve",
              "Validation Curve",
              "Dimensions",
              "Feature Importance",
              "Feature Importance (All)",
              "Decision Boundary",
              "Lift Chart",
              "Gain Chart",
              "Decision Tree",
              "KS Statistic Plot"
            ],
            "_view_count": null,
            "_view_module": "@jupyter-widgets/controls",
            "_view_module_version": "1.5.0",
            "_view_name": "ToggleButtonsView",
            "button_style": "",
            "description": "Plot Type:",
            "description_tooltip": null,
            "disabled": false,
            "icons": [
              ""
            ],
            "index": 0,
            "layout": "IPY_MODEL_c085c61c85114f46b30318c68ec0091b",
            "style": "IPY_MODEL_4aeb7e622ff644ebb73872da2770ed12",
            "tooltips": []
          }
        },
        "10a9ae81b21644f78c9d01c2add716a4": {
          "model_module": "@jupyter-widgets/output",
          "model_name": "OutputModel",
          "model_module_version": "1.0.0",
          "state": {
            "_dom_classes": [],
            "_model_module": "@jupyter-widgets/output",
            "_model_module_version": "1.0.0",
            "_model_name": "OutputModel",
            "_view_count": null,
            "_view_module": "@jupyter-widgets/output",
            "_view_module_version": "1.0.0",
            "_view_name": "OutputView",
            "layout": "IPY_MODEL_512962d60c7d41c9a0c370f56efd2bc4",
            "msg_id": "",
            "outputs": [
              {
                "output_type": "display_data",
                "data": {
                  "text/plain": "<Figure size 2200x600 with 1 Axes>",
                  "image/png": "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\n"
                },
                "metadata": {}
              }
            ]
          }
        },
        "eec3eda1dc124245b8007e0d7a13780e": {
          "model_module": "@jupyter-widgets/base",
          "model_name": "LayoutModel",
          "model_module_version": "1.2.0",
          "state": {
            "_model_module": "@jupyter-widgets/base",
            "_model_module_version": "1.2.0",
            "_model_name": "LayoutModel",
            "_view_count": null,
            "_view_module": "@jupyter-widgets/base",
            "_view_module_version": "1.2.0",
            "_view_name": "LayoutView",
            "align_content": null,
            "align_items": null,
            "align_self": null,
            "border": null,
            "bottom": null,
            "display": null,
            "flex": null,
            "flex_flow": null,
            "grid_area": null,
            "grid_auto_columns": null,
            "grid_auto_flow": null,
            "grid_auto_rows": null,
            "grid_column": null,
            "grid_gap": null,
            "grid_row": null,
            "grid_template_areas": null,
            "grid_template_columns": null,
            "grid_template_rows": null,
            "height": null,
            "justify_content": null,
            "justify_items": null,
            "left": null,
            "margin": null,
            "max_height": null,
            "max_width": null,
            "min_height": null,
            "min_width": null,
            "object_fit": null,
            "object_position": null,
            "order": null,
            "overflow": null,
            "overflow_x": null,
            "overflow_y": null,
            "padding": null,
            "right": null,
            "top": null,
            "visibility": null,
            "width": null
          }
        },
        "c085c61c85114f46b30318c68ec0091b": {
          "model_module": "@jupyter-widgets/base",
          "model_name": "LayoutModel",
          "model_module_version": "1.2.0",
          "state": {
            "_model_module": "@jupyter-widgets/base",
            "_model_module_version": "1.2.0",
            "_model_name": "LayoutModel",
            "_view_count": null,
            "_view_module": "@jupyter-widgets/base",
            "_view_module_version": "1.2.0",
            "_view_name": "LayoutView",
            "align_content": null,
            "align_items": null,
            "align_self": null,
            "border": null,
            "bottom": null,
            "display": null,
            "flex": null,
            "flex_flow": null,
            "grid_area": null,
            "grid_auto_columns": null,
            "grid_auto_flow": null,
            "grid_auto_rows": null,
            "grid_column": null,
            "grid_gap": null,
            "grid_row": null,
            "grid_template_areas": null,
            "grid_template_columns": null,
            "grid_template_rows": null,
            "height": null,
            "justify_content": null,
            "justify_items": null,
            "left": null,
            "margin": null,
            "max_height": null,
            "max_width": null,
            "min_height": null,
            "min_width": null,
            "object_fit": null,
            "object_position": null,
            "order": null,
            "overflow": null,
            "overflow_x": null,
            "overflow_y": null,
            "padding": null,
            "right": null,
            "top": null,
            "visibility": null,
            "width": null
          }
        },
        "4aeb7e622ff644ebb73872da2770ed12": {
          "model_module": "@jupyter-widgets/controls",
          "model_name": "ToggleButtonsStyleModel",
          "model_module_version": "1.5.0",
          "state": {
            "_model_module": "@jupyter-widgets/controls",
            "_model_module_version": "1.5.0",
            "_model_name": "ToggleButtonsStyleModel",
            "_view_count": null,
            "_view_module": "@jupyter-widgets/base",
            "_view_module_version": "1.2.0",
            "_view_name": "StyleView",
            "button_width": "",
            "description_width": "",
            "font_weight": ""
          }
        },
        "512962d60c7d41c9a0c370f56efd2bc4": {
          "model_module": "@jupyter-widgets/base",
          "model_name": "LayoutModel",
          "model_module_version": "1.2.0",
          "state": {
            "_model_module": "@jupyter-widgets/base",
            "_model_module_version": "1.2.0",
            "_model_name": "LayoutModel",
            "_view_count": null,
            "_view_module": "@jupyter-widgets/base",
            "_view_module_version": "1.2.0",
            "_view_name": "LayoutView",
            "align_content": null,
            "align_items": null,
            "align_self": null,
            "border": null,
            "bottom": null,
            "display": null,
            "flex": null,
            "flex_flow": null,
            "grid_area": null,
            "grid_auto_columns": null,
            "grid_auto_flow": null,
            "grid_auto_rows": null,
            "grid_column": null,
            "grid_gap": null,
            "grid_row": null,
            "grid_template_areas": null,
            "grid_template_columns": null,
            "grid_template_rows": null,
            "height": null,
            "justify_content": null,
            "justify_items": null,
            "left": null,
            "margin": null,
            "max_height": null,
            "max_width": null,
            "min_height": null,
            "min_width": null,
            "object_fit": null,
            "object_position": null,
            "order": null,
            "overflow": null,
            "overflow_x": null,
            "overflow_y": null,
            "padding": null,
            "right": null,
            "top": null,
            "visibility": null,
            "width": null
          }
        }
      }
    }
  },
  "cells": [
    {
      "cell_type": "markdown",
      "metadata": {
        "id": "view-in-github",
        "colab_type": "text"
      },
      "source": [
        "<a href=\"https://colab.research.google.com/github/tkoritsidis/tkorepka/blob/main/DGA_Classification_Exercise_dga_domain.ipynb\" target=\"_parent\"><img src=\"https://colab.research.google.com/assets/colab-badge.svg\" alt=\"Open In Colab\"/></a>"
      ]
    },
    {
      "cell_type": "code",
      "metadata": {
        "id": "2rvGqQdY9C6s",
        "outputId": "4a7f20a0-1377-4095-9fb5-efa4a12dff06",
        "colab": {
          "base_uri": "https://localhost:8080/"
        }
      },
      "source": [
        "#εγκατάσταση πακέτου pycaret (https://pycaret.org/)\n",
        "!pip install pycaret\n",
        "#***ΠΡΟΣΟΧΗ*** μετά την εγκατάσταση χρειάζεται restart το session\n",
        "#***θα σας ζητηθεί επανεκκίνηση με σχετικό κόκκινο μήνυμα μετά την ολοκλήρωση της εγκατάστασης\n",
        "#***Πατήστε το κουμπί RESTART SESSION στο σχετικό μήνυμα"
      ],
      "execution_count": 10,
      "outputs": [
        {
          "output_type": "stream",
          "name": "stdout",
          "text": [
            "Requirement already satisfied: pycaret in /usr/local/lib/python3.10/dist-packages (3.3.2)\n",
            "Requirement already satisfied: ipython>=5.5.0 in /usr/local/lib/python3.10/dist-packages (from pycaret) (7.34.0)\n",
            "Requirement already satisfied: ipywidgets>=7.6.5 in /usr/local/lib/python3.10/dist-packages (from pycaret) (7.7.1)\n",
            "Requirement already satisfied: tqdm>=4.62.0 in /usr/local/lib/python3.10/dist-packages (from pycaret) (4.67.1)\n",
            "Requirement already satisfied: numpy<1.27,>=1.21 in /usr/local/lib/python3.10/dist-packages (from pycaret) (1.26.4)\n",
            "Requirement already satisfied: pandas<2.2.0 in /usr/local/lib/python3.10/dist-packages (from pycaret) (2.1.4)\n",
            "Requirement already satisfied: jinja2>=3 in /usr/local/lib/python3.10/dist-packages (from pycaret) (3.1.4)\n",
            "Requirement already satisfied: scipy<=1.11.4,>=1.6.1 in /usr/local/lib/python3.10/dist-packages (from pycaret) (1.11.4)\n",
            "Requirement already satisfied: joblib<1.4,>=1.2.0 in /usr/local/lib/python3.10/dist-packages (from pycaret) (1.3.2)\n",
            "Requirement already satisfied: scikit-learn>1.4.0 in /usr/local/lib/python3.10/dist-packages (from pycaret) (1.4.2)\n",
            "Requirement already satisfied: pyod>=1.1.3 in /usr/local/lib/python3.10/dist-packages (from pycaret) (2.0.3)\n",
            "Requirement already satisfied: imbalanced-learn>=0.12.0 in /usr/local/lib/python3.10/dist-packages (from pycaret) (0.12.4)\n",
            "Requirement already satisfied: category-encoders>=2.4.0 in /usr/local/lib/python3.10/dist-packages (from pycaret) (2.6.4)\n",
            "Requirement already satisfied: lightgbm>=3.0.0 in /usr/local/lib/python3.10/dist-packages (from pycaret) (4.5.0)\n",
            "Requirement already satisfied: numba>=0.55.0 in /usr/local/lib/python3.10/dist-packages (from pycaret) (0.60.0)\n",
            "Requirement already satisfied: requests>=2.27.1 in /usr/local/lib/python3.10/dist-packages (from pycaret) (2.32.3)\n",
            "Requirement already satisfied: psutil>=5.9.0 in /usr/local/lib/python3.10/dist-packages (from pycaret) (5.9.5)\n",
            "Requirement already satisfied: markupsafe>=2.0.1 in /usr/local/lib/python3.10/dist-packages (from pycaret) (3.0.2)\n",
            "Requirement already satisfied: importlib-metadata>=4.12.0 in /usr/local/lib/python3.10/dist-packages (from pycaret) (8.5.0)\n",
            "Requirement already satisfied: nbformat>=4.2.0 in /usr/local/lib/python3.10/dist-packages (from pycaret) (5.10.4)\n",
            "Requirement already satisfied: cloudpickle in /usr/local/lib/python3.10/dist-packages (from pycaret) (3.1.0)\n",
            "Requirement already satisfied: deprecation>=2.1.0 in /usr/local/lib/python3.10/dist-packages (from pycaret) (2.1.0)\n",
            "Requirement already satisfied: xxhash in /usr/local/lib/python3.10/dist-packages (from pycaret) (3.5.0)\n",
            "Requirement already satisfied: matplotlib<3.8.0 in /usr/local/lib/python3.10/dist-packages (from pycaret) (3.7.5)\n",
            "Requirement already satisfied: scikit-plot>=0.3.7 in /usr/local/lib/python3.10/dist-packages (from pycaret) (0.3.7)\n",
            "Requirement already satisfied: yellowbrick>=1.4 in /usr/local/lib/python3.10/dist-packages (from pycaret) (1.5)\n",
            "Requirement already satisfied: plotly>=5.14.0 in /usr/local/lib/python3.10/dist-packages (from pycaret) (5.24.1)\n",
            "Requirement already satisfied: kaleido>=0.2.1 in /usr/local/lib/python3.10/dist-packages (from pycaret) (0.2.1)\n",
            "Requirement already satisfied: schemdraw==0.15 in /usr/local/lib/python3.10/dist-packages (from pycaret) (0.15)\n",
            "Requirement already satisfied: plotly-resampler>=0.8.3.1 in /usr/local/lib/python3.10/dist-packages (from pycaret) (0.10.0)\n",
            "Requirement already satisfied: statsmodels>=0.12.1 in /usr/local/lib/python3.10/dist-packages (from pycaret) (0.14.4)\n",
            "Requirement already satisfied: sktime==0.26.0 in /usr/local/lib/python3.10/dist-packages (from pycaret) (0.26.0)\n",
            "Requirement already satisfied: tbats>=1.1.3 in /usr/local/lib/python3.10/dist-packages (from pycaret) (1.1.3)\n",
            "Requirement already satisfied: pmdarima>=2.0.4 in /usr/local/lib/python3.10/dist-packages (from pycaret) (2.0.4)\n",
            "Requirement already satisfied: wurlitzer in /usr/local/lib/python3.10/dist-packages (from pycaret) (3.1.1)\n",
            "Requirement already satisfied: packaging in /usr/local/lib/python3.10/dist-packages (from sktime==0.26.0->pycaret) (24.2)\n",
            "Requirement already satisfied: scikit-base<0.8.0 in /usr/local/lib/python3.10/dist-packages (from sktime==0.26.0->pycaret) (0.7.8)\n",
            "Requirement already satisfied: patsy>=0.5.1 in /usr/local/lib/python3.10/dist-packages (from category-encoders>=2.4.0->pycaret) (1.0.1)\n",
            "Requirement already satisfied: threadpoolctl>=2.0.0 in /usr/local/lib/python3.10/dist-packages (from imbalanced-learn>=0.12.0->pycaret) (3.5.0)\n",
            "Requirement already satisfied: zipp>=3.20 in /usr/local/lib/python3.10/dist-packages (from importlib-metadata>=4.12.0->pycaret) (3.21.0)\n",
            "Requirement already satisfied: setuptools>=18.5 in /usr/local/lib/python3.10/dist-packages (from ipython>=5.5.0->pycaret) (75.1.0)\n",
            "Requirement already satisfied: jedi>=0.16 in /usr/local/lib/python3.10/dist-packages (from ipython>=5.5.0->pycaret) (0.19.2)\n",
            "Requirement already satisfied: decorator in /usr/local/lib/python3.10/dist-packages (from ipython>=5.5.0->pycaret) (4.4.2)\n",
            "Requirement already satisfied: pickleshare in /usr/local/lib/python3.10/dist-packages (from ipython>=5.5.0->pycaret) (0.7.5)\n",
            "Requirement already satisfied: traitlets>=4.2 in /usr/local/lib/python3.10/dist-packages (from ipython>=5.5.0->pycaret) (5.7.1)\n",
            "Requirement already satisfied: prompt-toolkit!=3.0.0,!=3.0.1,<3.1.0,>=2.0.0 in /usr/local/lib/python3.10/dist-packages (from ipython>=5.5.0->pycaret) (3.0.48)\n",
            "Requirement already satisfied: pygments in /usr/local/lib/python3.10/dist-packages (from ipython>=5.5.0->pycaret) (2.18.0)\n",
            "Requirement already satisfied: backcall in /usr/local/lib/python3.10/dist-packages (from ipython>=5.5.0->pycaret) (0.2.0)\n",
            "Requirement already satisfied: matplotlib-inline in /usr/local/lib/python3.10/dist-packages (from ipython>=5.5.0->pycaret) (0.1.7)\n",
            "Requirement already satisfied: pexpect>4.3 in /usr/local/lib/python3.10/dist-packages (from ipython>=5.5.0->pycaret) (4.9.0)\n",
            "Requirement already satisfied: ipykernel>=4.5.1 in /usr/local/lib/python3.10/dist-packages (from ipywidgets>=7.6.5->pycaret) (5.5.6)\n",
            "Requirement already satisfied: ipython-genutils~=0.2.0 in /usr/local/lib/python3.10/dist-packages (from ipywidgets>=7.6.5->pycaret) (0.2.0)\n",
            "Requirement already satisfied: widgetsnbextension~=3.6.0 in /usr/local/lib/python3.10/dist-packages (from ipywidgets>=7.6.5->pycaret) (3.6.10)\n",
            "Requirement already satisfied: jupyterlab-widgets>=1.0.0 in /usr/local/lib/python3.10/dist-packages (from ipywidgets>=7.6.5->pycaret) (3.0.13)\n",
            "Requirement already satisfied: contourpy>=1.0.1 in /usr/local/lib/python3.10/dist-packages (from matplotlib<3.8.0->pycaret) (1.3.1)\n",
            "Requirement already satisfied: cycler>=0.10 in /usr/local/lib/python3.10/dist-packages (from matplotlib<3.8.0->pycaret) (0.12.1)\n",
            "Requirement already satisfied: fonttools>=4.22.0 in /usr/local/lib/python3.10/dist-packages (from matplotlib<3.8.0->pycaret) (4.55.3)\n",
            "Requirement already satisfied: kiwisolver>=1.0.1 in /usr/local/lib/python3.10/dist-packages (from matplotlib<3.8.0->pycaret) (1.4.7)\n",
            "Requirement already satisfied: pillow>=6.2.0 in /usr/local/lib/python3.10/dist-packages (from matplotlib<3.8.0->pycaret) (11.0.0)\n",
            "Requirement already satisfied: pyparsing>=2.3.1 in /usr/local/lib/python3.10/dist-packages (from matplotlib<3.8.0->pycaret) (3.2.0)\n",
            "Requirement already satisfied: python-dateutil>=2.7 in /usr/local/lib/python3.10/dist-packages (from matplotlib<3.8.0->pycaret) (2.8.2)\n",
            "Requirement already satisfied: fastjsonschema>=2.15 in /usr/local/lib/python3.10/dist-packages (from nbformat>=4.2.0->pycaret) (2.21.1)\n",
            "Requirement already satisfied: jsonschema>=2.6 in /usr/local/lib/python3.10/dist-packages (from nbformat>=4.2.0->pycaret) (4.23.0)\n",
            "Requirement already satisfied: jupyter-core!=5.0.*,>=4.12 in /usr/local/lib/python3.10/dist-packages (from nbformat>=4.2.0->pycaret) (5.7.2)\n",
            "Requirement already satisfied: llvmlite<0.44,>=0.43.0dev0 in /usr/local/lib/python3.10/dist-packages (from numba>=0.55.0->pycaret) (0.43.0)\n",
            "Requirement already satisfied: pytz>=2020.1 in /usr/local/lib/python3.10/dist-packages (from pandas<2.2.0->pycaret) (2024.2)\n",
            "Requirement already satisfied: tzdata>=2022.1 in /usr/local/lib/python3.10/dist-packages (from pandas<2.2.0->pycaret) (2024.2)\n",
            "Requirement already satisfied: tenacity>=6.2.0 in /usr/local/lib/python3.10/dist-packages (from plotly>=5.14.0->pycaret) (9.0.0)\n",
            "Requirement already satisfied: dash>=2.9.0 in /usr/local/lib/python3.10/dist-packages (from plotly-resampler>=0.8.3.1->pycaret) (2.18.2)\n",
            "Requirement already satisfied: orjson<4.0.0,>=3.8.0 in /usr/local/lib/python3.10/dist-packages (from plotly-resampler>=0.8.3.1->pycaret) (3.10.12)\n",
            "Requirement already satisfied: tsdownsample>=0.1.3 in /usr/local/lib/python3.10/dist-packages (from plotly-resampler>=0.8.3.1->pycaret) (0.1.3)\n",
            "Requirement already satisfied: Cython!=0.29.18,!=0.29.31,>=0.29 in /usr/local/lib/python3.10/dist-packages (from pmdarima>=2.0.4->pycaret) (3.0.11)\n",
            "Requirement already satisfied: urllib3 in /usr/local/lib/python3.10/dist-packages (from pmdarima>=2.0.4->pycaret) (2.2.3)\n",
            "Requirement already satisfied: charset-normalizer<4,>=2 in /usr/local/lib/python3.10/dist-packages (from requests>=2.27.1->pycaret) (3.4.0)\n",
            "Requirement already satisfied: idna<4,>=2.5 in /usr/local/lib/python3.10/dist-packages (from requests>=2.27.1->pycaret) (3.10)\n",
            "Requirement already satisfied: certifi>=2017.4.17 in /usr/local/lib/python3.10/dist-packages (from requests>=2.27.1->pycaret) (2024.12.14)\n",
            "Requirement already satisfied: Flask<3.1,>=1.0.4 in /usr/local/lib/python3.10/dist-packages (from dash>=2.9.0->plotly-resampler>=0.8.3.1->pycaret) (3.0.3)\n",
            "Requirement already satisfied: Werkzeug<3.1 in /usr/local/lib/python3.10/dist-packages (from dash>=2.9.0->plotly-resampler>=0.8.3.1->pycaret) (3.0.6)\n",
            "Requirement already satisfied: dash-html-components==2.0.0 in /usr/local/lib/python3.10/dist-packages (from dash>=2.9.0->plotly-resampler>=0.8.3.1->pycaret) (2.0.0)\n",
            "Requirement already satisfied: dash-core-components==2.0.0 in /usr/local/lib/python3.10/dist-packages (from dash>=2.9.0->plotly-resampler>=0.8.3.1->pycaret) (2.0.0)\n",
            "Requirement already satisfied: dash-table==5.0.0 in /usr/local/lib/python3.10/dist-packages (from dash>=2.9.0->plotly-resampler>=0.8.3.1->pycaret) (5.0.0)\n",
            "Requirement already satisfied: typing-extensions>=4.1.1 in /usr/local/lib/python3.10/dist-packages (from dash>=2.9.0->plotly-resampler>=0.8.3.1->pycaret) (4.12.2)\n",
            "Requirement already satisfied: retrying in /usr/local/lib/python3.10/dist-packages (from dash>=2.9.0->plotly-resampler>=0.8.3.1->pycaret) (1.3.4)\n",
            "Requirement already satisfied: nest-asyncio in /usr/local/lib/python3.10/dist-packages (from dash>=2.9.0->plotly-resampler>=0.8.3.1->pycaret) (1.6.0)\n",
            "Requirement already satisfied: jupyter-client in /usr/local/lib/python3.10/dist-packages (from ipykernel>=4.5.1->ipywidgets>=7.6.5->pycaret) (6.1.12)\n",
            "Requirement already satisfied: tornado>=4.2 in /usr/local/lib/python3.10/dist-packages (from ipykernel>=4.5.1->ipywidgets>=7.6.5->pycaret) (6.3.3)\n",
            "Requirement already satisfied: parso<0.9.0,>=0.8.4 in /usr/local/lib/python3.10/dist-packages (from jedi>=0.16->ipython>=5.5.0->pycaret) (0.8.4)\n",
            "Requirement already satisfied: attrs>=22.2.0 in /usr/local/lib/python3.10/dist-packages (from jsonschema>=2.6->nbformat>=4.2.0->pycaret) (24.3.0)\n",
            "Requirement already satisfied: jsonschema-specifications>=2023.03.6 in /usr/local/lib/python3.10/dist-packages (from jsonschema>=2.6->nbformat>=4.2.0->pycaret) (2024.10.1)\n",
            "Requirement already satisfied: referencing>=0.28.4 in /usr/local/lib/python3.10/dist-packages (from jsonschema>=2.6->nbformat>=4.2.0->pycaret) (0.35.1)\n",
            "Requirement already satisfied: rpds-py>=0.7.1 in /usr/local/lib/python3.10/dist-packages (from jsonschema>=2.6->nbformat>=4.2.0->pycaret) (0.22.3)\n",
            "Requirement already satisfied: platformdirs>=2.5 in /usr/local/lib/python3.10/dist-packages (from jupyter-core!=5.0.*,>=4.12->nbformat>=4.2.0->pycaret) (4.3.6)\n",
            "Requirement already satisfied: ptyprocess>=0.5 in /usr/local/lib/python3.10/dist-packages (from pexpect>4.3->ipython>=5.5.0->pycaret) (0.7.0)\n",
            "Requirement already satisfied: wcwidth in /usr/local/lib/python3.10/dist-packages (from prompt-toolkit!=3.0.0,!=3.0.1,<3.1.0,>=2.0.0->ipython>=5.5.0->pycaret) (0.2.13)\n",
            "Requirement already satisfied: six>=1.5 in /usr/local/lib/python3.10/dist-packages (from python-dateutil>=2.7->matplotlib<3.8.0->pycaret) (1.17.0)\n",
            "Requirement already satisfied: notebook>=4.4.1 in /usr/local/lib/python3.10/dist-packages (from widgetsnbextension~=3.6.0->ipywidgets>=7.6.5->pycaret) (6.5.5)\n",
            "Requirement already satisfied: itsdangerous>=2.1.2 in /usr/local/lib/python3.10/dist-packages (from Flask<3.1,>=1.0.4->dash>=2.9.0->plotly-resampler>=0.8.3.1->pycaret) (2.2.0)\n",
            "Requirement already satisfied: click>=8.1.3 in /usr/local/lib/python3.10/dist-packages (from Flask<3.1,>=1.0.4->dash>=2.9.0->plotly-resampler>=0.8.3.1->pycaret) (8.1.7)\n",
            "Requirement already satisfied: blinker>=1.6.2 in /usr/local/lib/python3.10/dist-packages (from Flask<3.1,>=1.0.4->dash>=2.9.0->plotly-resampler>=0.8.3.1->pycaret) (1.9.0)\n",
            "Requirement already satisfied: pyzmq<25,>=17 in /usr/local/lib/python3.10/dist-packages (from notebook>=4.4.1->widgetsnbextension~=3.6.0->ipywidgets>=7.6.5->pycaret) (24.0.1)\n",
            "Requirement already satisfied: argon2-cffi in /usr/local/lib/python3.10/dist-packages (from notebook>=4.4.1->widgetsnbextension~=3.6.0->ipywidgets>=7.6.5->pycaret) (23.1.0)\n",
            "Requirement already satisfied: nbconvert>=5 in /usr/local/lib/python3.10/dist-packages (from notebook>=4.4.1->widgetsnbextension~=3.6.0->ipywidgets>=7.6.5->pycaret) (7.16.4)\n",
            "Requirement already satisfied: Send2Trash>=1.8.0 in /usr/local/lib/python3.10/dist-packages (from notebook>=4.4.1->widgetsnbextension~=3.6.0->ipywidgets>=7.6.5->pycaret) (1.8.3)\n",
            "Requirement already satisfied: terminado>=0.8.3 in /usr/local/lib/python3.10/dist-packages (from notebook>=4.4.1->widgetsnbextension~=3.6.0->ipywidgets>=7.6.5->pycaret) (0.18.1)\n",
            "Requirement already satisfied: prometheus-client in /usr/local/lib/python3.10/dist-packages (from notebook>=4.4.1->widgetsnbextension~=3.6.0->ipywidgets>=7.6.5->pycaret) (0.21.1)\n",
            "Requirement already satisfied: nbclassic>=0.4.7 in /usr/local/lib/python3.10/dist-packages (from notebook>=4.4.1->widgetsnbextension~=3.6.0->ipywidgets>=7.6.5->pycaret) (1.1.0)\n",
            "Requirement already satisfied: notebook-shim>=0.2.3 in /usr/local/lib/python3.10/dist-packages (from nbclassic>=0.4.7->notebook>=4.4.1->widgetsnbextension~=3.6.0->ipywidgets>=7.6.5->pycaret) (0.2.4)\n",
            "Requirement already satisfied: beautifulsoup4 in /usr/local/lib/python3.10/dist-packages (from nbconvert>=5->notebook>=4.4.1->widgetsnbextension~=3.6.0->ipywidgets>=7.6.5->pycaret) (4.12.3)\n",
            "Requirement already satisfied: bleach!=5.0.0 in /usr/local/lib/python3.10/dist-packages (from nbconvert>=5->notebook>=4.4.1->widgetsnbextension~=3.6.0->ipywidgets>=7.6.5->pycaret) (6.2.0)\n",
            "Requirement already satisfied: defusedxml in /usr/local/lib/python3.10/dist-packages (from nbconvert>=5->notebook>=4.4.1->widgetsnbextension~=3.6.0->ipywidgets>=7.6.5->pycaret) (0.7.1)\n",
            "Requirement already satisfied: jupyterlab-pygments in /usr/local/lib/python3.10/dist-packages (from nbconvert>=5->notebook>=4.4.1->widgetsnbextension~=3.6.0->ipywidgets>=7.6.5->pycaret) (0.3.0)\n",
            "Requirement already satisfied: mistune<4,>=2.0.3 in /usr/local/lib/python3.10/dist-packages (from nbconvert>=5->notebook>=4.4.1->widgetsnbextension~=3.6.0->ipywidgets>=7.6.5->pycaret) (3.0.2)\n",
            "Requirement already satisfied: nbclient>=0.5.0 in /usr/local/lib/python3.10/dist-packages (from nbconvert>=5->notebook>=4.4.1->widgetsnbextension~=3.6.0->ipywidgets>=7.6.5->pycaret) (0.10.1)\n",
            "Requirement already satisfied: pandocfilters>=1.4.1 in /usr/local/lib/python3.10/dist-packages (from nbconvert>=5->notebook>=4.4.1->widgetsnbextension~=3.6.0->ipywidgets>=7.6.5->pycaret) (1.5.1)\n",
            "Requirement already satisfied: tinycss2 in /usr/local/lib/python3.10/dist-packages (from nbconvert>=5->notebook>=4.4.1->widgetsnbextension~=3.6.0->ipywidgets>=7.6.5->pycaret) (1.4.0)\n",
            "Requirement already satisfied: argon2-cffi-bindings in /usr/local/lib/python3.10/dist-packages (from argon2-cffi->notebook>=4.4.1->widgetsnbextension~=3.6.0->ipywidgets>=7.6.5->pycaret) (21.2.0)\n",
            "Requirement already satisfied: webencodings in /usr/local/lib/python3.10/dist-packages (from bleach!=5.0.0->nbconvert>=5->notebook>=4.4.1->widgetsnbextension~=3.6.0->ipywidgets>=7.6.5->pycaret) (0.5.1)\n",
            "Requirement already satisfied: jupyter-server<3,>=1.8 in /usr/local/lib/python3.10/dist-packages (from notebook-shim>=0.2.3->nbclassic>=0.4.7->notebook>=4.4.1->widgetsnbextension~=3.6.0->ipywidgets>=7.6.5->pycaret) (1.24.0)\n",
            "Requirement already satisfied: cffi>=1.0.1 in /usr/local/lib/python3.10/dist-packages (from argon2-cffi-bindings->argon2-cffi->notebook>=4.4.1->widgetsnbextension~=3.6.0->ipywidgets>=7.6.5->pycaret) (1.17.1)\n",
            "Requirement already satisfied: soupsieve>1.2 in /usr/local/lib/python3.10/dist-packages (from beautifulsoup4->nbconvert>=5->notebook>=4.4.1->widgetsnbextension~=3.6.0->ipywidgets>=7.6.5->pycaret) (2.6)\n",
            "Requirement already satisfied: pycparser in /usr/local/lib/python3.10/dist-packages (from cffi>=1.0.1->argon2-cffi-bindings->argon2-cffi->notebook>=4.4.1->widgetsnbextension~=3.6.0->ipywidgets>=7.6.5->pycaret) (2.22)\n",
            "Requirement already satisfied: anyio<4,>=3.1.0 in /usr/local/lib/python3.10/dist-packages (from jupyter-server<3,>=1.8->notebook-shim>=0.2.3->nbclassic>=0.4.7->notebook>=4.4.1->widgetsnbextension~=3.6.0->ipywidgets>=7.6.5->pycaret) (3.7.1)\n",
            "Requirement already satisfied: websocket-client in /usr/local/lib/python3.10/dist-packages (from jupyter-server<3,>=1.8->notebook-shim>=0.2.3->nbclassic>=0.4.7->notebook>=4.4.1->widgetsnbextension~=3.6.0->ipywidgets>=7.6.5->pycaret) (1.8.0)\n",
            "Requirement already satisfied: sniffio>=1.1 in /usr/local/lib/python3.10/dist-packages (from anyio<4,>=3.1.0->jupyter-server<3,>=1.8->notebook-shim>=0.2.3->nbclassic>=0.4.7->notebook>=4.4.1->widgetsnbextension~=3.6.0->ipywidgets>=7.6.5->pycaret) (1.3.1)\n",
            "Requirement already satisfied: exceptiongroup in /usr/local/lib/python3.10/dist-packages (from anyio<4,>=3.1.0->jupyter-server<3,>=1.8->notebook-shim>=0.2.3->nbclassic>=0.4.7->notebook>=4.4.1->widgetsnbextension~=3.6.0->ipywidgets>=7.6.5->pycaret) (1.2.2)\n"
          ]
        }
      ]
    },
    {
      "cell_type": "code",
      "metadata": {
        "id": "7LfnpwSS9nue"
      },
      "source": [
        "#εισαγωγή βιβλιοθηκών - πακέτων\n",
        "import pycaret\n",
        "import pandas as pd\n",
        "import numpy as np\n",
        "import matplotlib.pyplot as plt\n",
        "from pycaret.classification import *"
      ],
      "execution_count": 11,
      "outputs": []
    },
    {
      "cell_type": "code",
      "metadata": {
        "colab": {
          "base_uri": "https://localhost:8080/"
        },
        "id": "ZunbzPVa9a6g",
        "outputId": "363c9066-5494-4aa3-f426-87d4dc036685"
      },
      "source": [
        "#εισαγωγή του συνόλου δεδομένων\n",
        "url = 'https://raw.githubusercontent.com/kdemertzis/EKPA/main/Data/dga_domain.csv'\n",
        "df = pd.read_csv(url)\n",
        "#έλεγχος σχήματος συνόλου δεδομένων\n",
        "print(df.shape)"
      ],
      "execution_count": 13,
      "outputs": [
        {
          "output_type": "stream",
          "name": "stdout",
          "text": [
            "(117588, 6)\n"
          ]
        }
      ]
    },
    {
      "cell_type": "code",
      "source": [
        "#ανακάτεμα των δεδομένων\n",
        "df = df.sample(frac = 1)\n",
        "print(df.head())"
      ],
      "metadata": {
        "id": "DCynJDtpYx8z",
        "outputId": "bd94acf2-db8b-4166-98a6-c6303308a03e",
        "colab": {
          "base_uri": "https://localhost:8080/"
        }
      },
      "execution_count": 14,
      "outputs": [
        {
          "output_type": "stream",
          "name": "stdout",
          "text": [
            "       length   entropy   alexa_grams   word_grams       diff  class\n",
            "91064      12  2.584963     40.617718    55.368801 -14.751083    dga\n",
            "35477       8  2.750000     18.131801    27.144243  -9.012441  legit\n",
            "99960      18  3.614369     60.812553    63.704110  -2.891557    dga\n",
            "89855       5  1.921928     11.445326    15.379060  -3.933734  legit\n",
            "92689       5  2.321928      7.473393    15.935339  -8.461946    dga\n"
          ]
        }
      ]
    },
    {
      "cell_type": "code",
      "metadata": {
        "id": "J6y3Zhq2-EZ8"
      },
      "source": [
        "#εγκατάσταση του συνόλου δεδομένων\n",
        "grid = setup(data=df, target=df.columns[-1], html=False, verbose=False)"
      ],
      "execution_count": 15,
      "outputs": []
    },
    {
      "cell_type": "code",
      "metadata": {
        "colab": {
          "base_uri": "https://localhost:8080/"
        },
        "id": "ZGJ7kigzA1Rf",
        "outputId": "82cb7e73-7a54-4827-a079-bad8e4936e72"
      },
      "source": [
        "#σύγκριση των διαθέσιμων μοντέλων ΜΜ\n",
        "best = compare_models(cross_validation=False, n_select = 1)\n",
        "%load_ext tensorboard"
      ],
      "execution_count": 16,
      "outputs": [
        {
          "output_type": "stream",
          "name": "stderr",
          "text": [
            "                                                           "
          ]
        },
        {
          "output_type": "stream",
          "name": "stdout",
          "text": [
            "                                    Model  Accuracy     AUC  Recall   Prec.  \\\n",
            "lightgbm  Light Gradient Boosting Machine    0.8881  0.9088  0.8881  0.8885   \n",
            "gbc          Gradient Boosting Classifier    0.8878  0.9065  0.8878  0.8884   \n",
            "xgboost         Extreme Gradient Boosting    0.8865  0.9075  0.8865  0.8856   \n",
            "rf               Random Forest Classifier    0.8796  0.8922  0.8796  0.8754   \n",
            "lr                    Logistic Regression    0.8735  0.8746  0.8735  0.8713   \n",
            "knn                K Neighbors Classifier    0.8725  0.8658  0.8725  0.8674   \n",
            "et                 Extra Trees Classifier    0.8701  0.8835  0.8701  0.8645   \n",
            "svm                   SVM - Linear Kernel    0.8679  0.0000  0.8679  0.8746   \n",
            "lda          Linear Discriminant Analysis    0.8484  0.8576  0.8484  0.8521   \n",
            "qda       Quadratic Discriminant Analysis    0.8469  0.8775  0.8469  0.8462   \n",
            "ridge                    Ridge Classifier    0.8322  0.0000  0.8322  0.8406   \n",
            "dt               Decision Tree Classifier    0.8230  0.7843  0.8230  0.8253   \n",
            "ada                  Ada Boost Classifier    0.7677  0.5771  0.7677  0.6459   \n",
            "nb                            Naive Bayes    0.7641  0.7758  0.7641  0.7364   \n",
            "dummy                    Dummy Classifier    0.7342  0.0000  0.7342  0.5391   \n",
            "\n",
            "              F1   Kappa     MCC  TT (Sec)  \n",
            "lightgbm  0.8792  0.6964  0.7137      1.50  \n",
            "gbc       0.8785  0.6949  0.7131     61.98  \n",
            "xgboost   0.8782  0.6942  0.7091      2.01  \n",
            "rf        0.8727  0.6812  0.6905     23.37  \n",
            "lr        0.8645  0.6581  0.6731     10.23  \n",
            "knn       0.8656  0.6633  0.6716      0.14  \n",
            "et        0.8645  0.6620  0.6672      7.52  \n",
            "svm       0.8529  0.6253  0.6591      4.91  \n",
            "lda       0.8357  0.5736  0.5994      0.07  \n",
            "qda       0.8447  0.6232  0.6241      0.10  \n",
            "ridge     0.7987  0.4786  0.5437      0.11  \n",
            "dt        0.8241  0.5702  0.5703      1.00  \n",
            "ada       0.6738  0.2230  0.3385      4.24  \n",
            "nb        0.7417  0.3611  0.3719      0.08  \n",
            "dummy     0.6217  0.0000  0.0000      0.06  \n",
            "The tensorboard extension is already loaded. To reload it, use:\n",
            "  %reload_ext tensorboard\n"
          ]
        },
        {
          "output_type": "stream",
          "name": "stderr",
          "text": [
            "\r"
          ]
        }
      ]
    },
    {
      "cell_type": "code",
      "metadata": {
        "colab": {
          "base_uri": "https://localhost:8080/"
        },
        "id": "TorFLtNx-kCm",
        "outputId": "1ab1bd73-26d2-415e-c920-516752a7e5c5"
      },
      "source": [
        "#αναφορά των υπερπαραμέτρων του μοντέλου με την υψηλότερη απόδοση\n",
        "print(best)"
      ],
      "execution_count": 17,
      "outputs": [
        {
          "output_type": "stream",
          "name": "stdout",
          "text": [
            "LGBMClassifier(boosting_type='gbdt', class_weight=None, colsample_bytree=1.0,\n",
            "               importance_type='split', learning_rate=0.1, max_depth=-1,\n",
            "               min_child_samples=20, min_child_weight=0.001, min_split_gain=0.0,\n",
            "               n_estimators=100, n_jobs=-1, num_leaves=31, objective=None,\n",
            "               random_state=1326, reg_alpha=0.0, reg_lambda=0.0, subsample=1.0,\n",
            "               subsample_for_bin=200000, subsample_freq=0)\n"
          ]
        }
      ]
    },
    {
      "cell_type": "code",
      "metadata": {
        "id": "XJTnGY38yxrE",
        "outputId": "63ccc953-9882-4734-e475-dabccfb1089e",
        "colab": {
          "base_uri": "https://localhost:8080/",
          "height": 239,
          "referenced_widgets": [
            "c5ec3bd9a5e040258c142d80cd072fdc",
            "fe29cbec14824cc4a0c054b9ccb1b6b9",
            "10a9ae81b21644f78c9d01c2add716a4",
            "eec3eda1dc124245b8007e0d7a13780e",
            "c085c61c85114f46b30318c68ec0091b",
            "4aeb7e622ff644ebb73872da2770ed12",
            "512962d60c7d41c9a0c370f56efd2bc4"
          ]
        }
      },
      "source": [
        "#μέτρα αξιολόγησης του μοντέλου με την υψηλότερη απόδοση\n",
        "evaluate_model(best)"
      ],
      "execution_count": 18,
      "outputs": [
        {
          "output_type": "display_data",
          "data": {
            "text/plain": [
              "interactive(children=(ToggleButtons(description='Plot Type:', icons=('',), options=(('Pipeline Plot', 'pipelin…"
            ],
            "application/vnd.jupyter.widget-view+json": {
              "version_major": 2,
              "version_minor": 0,
              "model_id": "c5ec3bd9a5e040258c142d80cd072fdc"
            }
          },
          "metadata": {
            "application/vnd.jupyter.widget-view+json": {
              "colab": {
                "custom_widget_manager": {
                  "url": "https://ssl.gstatic.com/colaboratory-static/widgets/colab-cdn-widget-manager/2b70e893a8ba7c0f/manager.min.js"
                }
              }
            }
          }
        }
      ]
    }
  ]
}